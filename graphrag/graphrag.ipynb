{
 "cells": [
  {
   "cell_type": "markdown",
   "metadata": {},
   "source": [
    "python=3.10"
   ]
  },
  {
   "cell_type": "code",
   "execution_count": null,
   "metadata": {},
   "outputs": [],
   "source": [
    "pip install graphrag"
   ]
  },
  {
   "cell_type": "markdown",
   "metadata": {},
   "source": [
    "## Convert pdf to txt"
   ]
  },
  {
   "cell_type": "markdown",
   "metadata": {},
   "source": [
    "graphrag only supports csv and txt"
   ]
  },
  {
   "cell_type": "code",
   "execution_count": 6,
   "metadata": {},
   "outputs": [
    {
     "name": "stdout",
     "output_type": "stream",
     "text": [
      "Collecting PyPDF2\n",
      "  Using cached pypdf2-3.0.1-py3-none-any.whl.metadata (6.8 kB)\n",
      "Collecting pdfplumber\n",
      "  Downloading pdfplumber-0.11.2-py3-none-any.whl.metadata (40 kB)\n",
      "\u001b[2K     \u001b[90m━━━━━━━━━━━━━━━━━━━━━━━━━━━━━━━━━━━━━━━━\u001b[0m \u001b[32m40.1/40.1 kB\u001b[0m \u001b[31m4.2 MB/s\u001b[0m eta \u001b[36m0:00:00\u001b[0m\n",
      "\u001b[?25hCollecting pdfminer.six==20231228 (from pdfplumber)\n",
      "  Downloading pdfminer.six-20231228-py3-none-any.whl.metadata (4.2 kB)\n",
      "Requirement already satisfied: Pillow>=9.1 in /home/adamtay/miniforge3/envs/graphrag/lib/python3.10/site-packages (from pdfplumber) (10.4.0)\n",
      "Collecting pypdfium2>=4.18.0 (from pdfplumber)\n",
      "  Downloading pypdfium2-4.30.0-py3-none-manylinux_2_17_x86_64.manylinux2014_x86_64.whl.metadata (48 kB)\n",
      "\u001b[2K     \u001b[90m━━━━━━━━━━━━━━━━━━━━━━━━━━━━━━━━━━━━━━━━\u001b[0m \u001b[32m48.5/48.5 kB\u001b[0m \u001b[31m6.4 MB/s\u001b[0m eta \u001b[36m0:00:00\u001b[0m\n",
      "\u001b[?25hRequirement already satisfied: charset-normalizer>=2.0.0 in /home/adamtay/miniforge3/envs/graphrag/lib/python3.10/site-packages (from pdfminer.six==20231228->pdfplumber) (3.3.2)\n",
      "Requirement already satisfied: cryptography>=36.0.0 in /home/adamtay/miniforge3/envs/graphrag/lib/python3.10/site-packages (from pdfminer.six==20231228->pdfplumber) (42.0.8)\n",
      "Requirement already satisfied: cffi>=1.12 in /home/adamtay/miniforge3/envs/graphrag/lib/python3.10/site-packages (from cryptography>=36.0.0->pdfminer.six==20231228->pdfplumber) (1.16.0)\n",
      "Requirement already satisfied: pycparser in /home/adamtay/miniforge3/envs/graphrag/lib/python3.10/site-packages (from cffi>=1.12->cryptography>=36.0.0->pdfminer.six==20231228->pdfplumber) (2.22)\n",
      "Using cached pypdf2-3.0.1-py3-none-any.whl (232 kB)\n",
      "Downloading pdfplumber-0.11.2-py3-none-any.whl (58 kB)\n",
      "\u001b[2K   \u001b[90m━━━━━━━━━━━━━━━━━━━━━━━━━━━━━━━━━━━━━━━━\u001b[0m \u001b[32m58.0/58.0 kB\u001b[0m \u001b[31m7.8 MB/s\u001b[0m eta \u001b[36m0:00:00\u001b[0m\n",
      "\u001b[?25hDownloading pdfminer.six-20231228-py3-none-any.whl (5.6 MB)\n",
      "\u001b[2K   \u001b[90m━━━━━━━━━━━━━━━━━━━━━━━━━━━━━━━━━━━━━━━━\u001b[0m \u001b[32m5.6/5.6 MB\u001b[0m \u001b[31m69.4 MB/s\u001b[0m eta \u001b[36m0:00:00\u001b[0m00:01\u001b[0m00:01\u001b[0m\n",
      "\u001b[?25hDownloading pypdfium2-4.30.0-py3-none-manylinux_2_17_x86_64.manylinux2014_x86_64.whl (2.8 MB)\n",
      "\u001b[2K   \u001b[90m━━━━━━━━━━━━━━━━━━━━━━━━━━━━━━━━━━━━━━━━\u001b[0m \u001b[32m2.8/2.8 MB\u001b[0m \u001b[31m76.6 MB/s\u001b[0m eta \u001b[36m0:00:00\u001b[0m:00:01\u001b[0m\n",
      "\u001b[?25hInstalling collected packages: pypdfium2, PyPDF2, pdfminer.six, pdfplumber\n",
      "Successfully installed PyPDF2-3.0.1 pdfminer.six-20231228 pdfplumber-0.11.2 pypdfium2-4.30.0\n",
      "Note: you may need to restart the kernel to use updated packages.\n"
     ]
    }
   ],
   "source": [
    "pip install PyPDF2 pdfplumber"
   ]
  },
  {
   "cell_type": "code",
   "execution_count": 11,
   "metadata": {},
   "outputs": [
    {
     "name": "stdout",
     "output_type": "stream",
     "text": [
      "/home/adamtay/graphrag-accelerator/documents/sa/Intel Core Ultra Processors Press Deck_FINAL_Newsroom_12.14 1.pdf\n",
      "/home/adamtay/graphrag-accelerator/documents/sa_txt/Intel Core Ultra Processors Press Deck_FINAL_Newsroom_12.14 1.txt\n",
      "Converted /home/adamtay/graphrag-accelerator/documents/sa/Intel Core Ultra Processors Press Deck_FINAL_Newsroom_12.14 1.pdf to /home/adamtay/graphrag-accelerator/documents/sa_txt/Intel Core Ultra Processors Press Deck_FINAL_Newsroom_12.14 1.txt\n",
      "/home/adamtay/graphrag-accelerator/documents/sa/Intel® Core™ Ultra Processors Enable AI _ ML for Industry 4.0-UAM-823074-1.pdf\n",
      "/home/adamtay/graphrag-accelerator/documents/sa_txt/Intel® Core™ Ultra Processors Enable AI _ ML for Industry 4.0-UAM-823074-1.txt\n",
      "Converted /home/adamtay/graphrag-accelerator/documents/sa/Intel® Core™ Ultra Processors Enable AI _ ML for Industry 4.0-UAM-823074-1.pdf to /home/adamtay/graphrag-accelerator/documents/sa_txt/Intel® Core™ Ultra Processors Enable AI _ ML for Industry 4.0-UAM-823074-1.txt\n",
      "/home/adamtay/graphrag-accelerator/documents/sa/220205-Intel-AWS-instances-accelerate-OpenRadioss-HPC-simulations-technical-research-report (1).pdf\n",
      "/home/adamtay/graphrag-accelerator/documents/sa_txt/220205-Intel-AWS-instances-accelerate-OpenRadioss-HPC-simulations-technical-research-report (1).txt\n",
      "Converted /home/adamtay/graphrag-accelerator/documents/sa/220205-Intel-AWS-instances-accelerate-OpenRadioss-HPC-simulations-technical-research-report (1).pdf to /home/adamtay/graphrag-accelerator/documents/sa_txt/220205-Intel-AWS-instances-accelerate-OpenRadioss-HPC-simulations-technical-research-report (1).txt\n"
     ]
    }
   ],
   "source": [
    "import pdfplumber\n",
    "import os\n",
    "\n",
    "def pdf_to_text(pdf_path, txt_path):\n",
    "    with pdfplumber.open(pdf_path) as pdf:\n",
    "        with open(txt_path, 'w') as txt_file:\n",
    "            for page in pdf.pages:\n",
    "                text = page.extract_text()\n",
    "                if text:\n",
    "                    txt_file.write(text)\n",
    "                    txt_file.write('\\n')\n",
    "    print(f\"Converted {pdf_path} to {txt_path}\")\n",
    "    \n",
    "def change_extension(pdf_file):\n",
    "    if pdf_file.lower().endswith('.pdf'):\n",
    "        txt_file = os.path.splitext(pdf_file)[0] + '.txt'\n",
    "        return txt_file\n",
    "    else:\n",
    "        return None\n",
    "\n",
    "# Example usage\n",
    "pdf_dir = \"/home/adamtay/graphrag-accelerator/documents/sa\"\n",
    "text_dir = \"/home/adamtay/graphrag-accelerator/documents/sa_txt\"\n",
    "for file in os.listdir(pdf_dir):\n",
    "    pdf_path = os.path.join(pdf_dir, file)\n",
    "    txt_path = os.path.join(text_dir, change_extension(file))\n",
    "    print(pdf_path)\n",
    "    print(txt_path)\n",
    "    pdf_to_text(pdf_path, txt_path)"
   ]
  }
 ],
 "metadata": {
  "kernelspec": {
   "display_name": "graphrag",
   "language": "python",
   "name": "python3"
  },
  "language_info": {
   "codemirror_mode": {
    "name": "ipython",
    "version": 3
   },
   "file_extension": ".py",
   "mimetype": "text/x-python",
   "name": "python",
   "nbconvert_exporter": "python",
   "pygments_lexer": "ipython3",
   "version": "3.10.14"
  }
 },
 "nbformat": 4,
 "nbformat_minor": 2
}
